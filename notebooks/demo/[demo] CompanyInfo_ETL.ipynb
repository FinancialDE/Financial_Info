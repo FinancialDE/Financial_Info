{
 "cells": [
  {
   "cell_type": "code",
   "execution_count": 1,
   "id": "b1694a95",
   "metadata": {},
   "outputs": [],
   "source": [
    "import os\n",
    "import sys\n",
    "sys.path.append('../../')\n",
    "\n",
    "from financial_etl.company_info import CompanyInfo_ETL"
   ]
  },
  {
   "cell_type": "code",
   "execution_count": 2,
   "id": "806df20e",
   "metadata": {},
   "outputs": [],
   "source": [
    "etl = CompanyInfo_ETL()"
   ]
  },
  {
   "cell_type": "code",
   "execution_count": 3,
   "id": "9c7c2ea1",
   "metadata": {},
   "outputs": [],
   "source": [
    "symbols = ['JPM', 'GS']"
   ]
  },
  {
   "cell_type": "markdown",
   "id": "b9497292",
   "metadata": {},
   "source": [
    "## Define Storage Directory"
   ]
  },
  {
   "cell_type": "code",
   "execution_count": 4,
   "id": "40a9c166",
   "metadata": {},
   "outputs": [],
   "source": [
    "dir_repo = '/Users/hhg/MLAI_Science/projects/finance/repo/HHworking/'\n",
    "dir_data_lake = dir_repo + 'data_lake/'\n",
    "dir_data = dir_repo + 'data'\n",
    "\n",
    "if not os.path.exists(dir_data): os.makedirs(dir_data)\n",
    "\n",
    "if not os.path.exists(dir_data_lake): os.makedirs(dir_data_lake)"
   ]
  },
  {
   "cell_type": "markdown",
   "id": "06d19c79",
   "metadata": {},
   "source": [
    "## Extract"
   ]
  },
  {
   "cell_type": "code",
   "execution_count": 5,
   "id": "77344818",
   "metadata": {},
   "outputs": [],
   "source": [
    "filename_raw = os.path.join(dir_data_lake, 'company_info.json') # note: raw company info data is in json format\n",
    "etl.extract(symbols, filename_out=filename_raw)"
   ]
  },
  {
   "cell_type": "markdown",
   "id": "09b33e21",
   "metadata": {},
   "source": [
    "## Transform"
   ]
  },
  {
   "cell_type": "code",
   "execution_count": 6,
   "id": "df675aed",
   "metadata": {},
   "outputs": [
    {
     "data": {
      "text/html": [
       "<div>\n",
       "<style scoped>\n",
       "    .dataframe tbody tr th:only-of-type {\n",
       "        vertical-align: middle;\n",
       "    }\n",
       "\n",
       "    .dataframe tbody tr th {\n",
       "        vertical-align: top;\n",
       "    }\n",
       "\n",
       "    .dataframe thead th {\n",
       "        text-align: right;\n",
       "    }\n",
       "</style>\n",
       "<table border=\"1\" class=\"dataframe\">\n",
       "  <thead>\n",
       "    <tr style=\"text-align: right;\">\n",
       "      <th></th>\n",
       "      <th>address</th>\n",
       "      <th>city</th>\n",
       "      <th>state</th>\n",
       "      <th>zip</th>\n",
       "      <th>country</th>\n",
       "      <th>phone</th>\n",
       "      <th>website</th>\n",
       "      <th>industry</th>\n",
       "      <th>sector</th>\n",
       "      <th>longBusinessSummary</th>\n",
       "      <th>fullTimeEmployees</th>\n",
       "      <th>symbol</th>\n",
       "    </tr>\n",
       "  </thead>\n",
       "  <tbody>\n",
       "    <tr>\n",
       "      <th>0</th>\n",
       "      <td>383 Madison Avenue</td>\n",
       "      <td>New York</td>\n",
       "      <td>NY</td>\n",
       "      <td>10179</td>\n",
       "      <td>United States</td>\n",
       "      <td>212 270 6000</td>\n",
       "      <td>https://www.jpmorganchase.com</td>\n",
       "      <td>Banks—Diversified</td>\n",
       "      <td>Financial Services</td>\n",
       "      <td>JPMorgan Chase &amp; Co. operates as a financial s...</td>\n",
       "      <td>296877</td>\n",
       "      <td>JPM</td>\n",
       "    </tr>\n",
       "    <tr>\n",
       "      <th>1</th>\n",
       "      <td>200 West Street</td>\n",
       "      <td>New York</td>\n",
       "      <td>NY</td>\n",
       "      <td>10282</td>\n",
       "      <td>United States</td>\n",
       "      <td>212 902 1000</td>\n",
       "      <td>https://www.goldmansachs.com</td>\n",
       "      <td>Capital Markets</td>\n",
       "      <td>Financial Services</td>\n",
       "      <td>The Goldman Sachs Group, Inc., a financial ins...</td>\n",
       "      <td>45400</td>\n",
       "      <td>GS</td>\n",
       "    </tr>\n",
       "  </tbody>\n",
       "</table>\n",
       "</div>"
      ],
      "text/plain": [
       "              address      city state    zip        country         phone  \\\n",
       "0  383 Madison Avenue  New York    NY  10179  United States  212 270 6000   \n",
       "1     200 West Street  New York    NY  10282  United States  212 902 1000   \n",
       "\n",
       "                         website           industry              sector  \\\n",
       "0  https://www.jpmorganchase.com  Banks—Diversified  Financial Services   \n",
       "1   https://www.goldmansachs.com    Capital Markets  Financial Services   \n",
       "\n",
       "                                 longBusinessSummary  fullTimeEmployees symbol  \n",
       "0  JPMorgan Chase & Co. operates as a financial s...             296877    JPM  \n",
       "1  The Goldman Sachs Group, Inc., a financial ins...              45400     GS  "
      ]
     },
     "execution_count": 6,
     "metadata": {},
     "output_type": "execute_result"
    }
   ],
   "source": [
    "filename_out = os.path.join(dir_data, 'company_info.csv')\n",
    "df = etl.transform(filename_in=filename_raw, filename_out=filename_out)\n",
    "df"
   ]
  },
  {
   "cell_type": "code",
   "execution_count": null,
   "id": "80be72ea",
   "metadata": {},
   "outputs": [],
   "source": []
  }
 ],
 "metadata": {
  "kernelspec": {
   "display_name": "python3 (base)",
   "language": "python",
   "name": "python3"
  },
  "language_info": {
   "codemirror_mode": {
    "name": "ipython",
    "version": 3
   },
   "file_extension": ".py",
   "mimetype": "text/x-python",
   "name": "python",
   "nbconvert_exporter": "python",
   "pygments_lexer": "ipython3",
   "version": "3.10.8"
  }
 },
 "nbformat": 4,
 "nbformat_minor": 5
}
